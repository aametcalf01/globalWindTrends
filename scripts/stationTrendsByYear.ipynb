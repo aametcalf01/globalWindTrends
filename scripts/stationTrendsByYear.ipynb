{
 "cells": [
  {
   "cell_type": "code",
   "execution_count": 1,
   "metadata": {
    "collapsed": true
   },
   "outputs": [],
   "source": [
    "import os\n",
    "import pandas as pd\n",
    "import numpy as np\n",
    "from datetime import datetime\n",
    "from calcAngleDir import calcAngleDir"
   ]
  },
  {
   "cell_type": "code",
   "execution_count": 2,
   "metadata": {
    "collapsed": true
   },
   "outputs": [],
   "source": [
    "os.chdir(\"/users/a/a/aametcal/scratch/isd-lite/data\")"
   ]
  },
  {
   "cell_type": "code",
   "execution_count": 3,
   "metadata": {},
   "outputs": [
    {
     "data": {
      "text/plain": [
       "['1906',\n",
       " '1953',\n",
       " '1913',\n",
       " '1968',\n",
       " '1928',\n",
       " '2003',\n",
       " '2018',\n",
       " '1954',\n",
       " '1914',\n",
       " '1969',\n",
       " '1929',\n",
       " '1976',\n",
       " '2004',\n",
       " '1940',\n",
       " '1915',\n",
       " '1962',\n",
       " '1977',\n",
       " '2005',\n",
       " '1901',\n",
       " '1916',\n",
       " '1963',\n",
       " '1978',\n",
       " '1938',\n",
       " '2006',\n",
       " '1902',\n",
       " '1964',\n",
       " '1924',\n",
       " '1979',\n",
       " '1939',\n",
       " '2014',\n",
       " '1950',\n",
       " '1910',\n",
       " '1965',\n",
       " '1925',\n",
       " '1972',\n",
       " '2000',\n",
       " '1987',\n",
       " '2015',\n",
       " '1911',\n",
       " '1926',\n",
       " '1973',\n",
       " '2001',\n",
       " '1988',\n",
       " '2016',\n",
       " '1912',\n",
       " '1927',\n",
       " '1974',\n",
       " '1934',\n",
       " '2002',\n",
       " '1989',\n",
       " '1949',\n",
       " '2017',\n",
       " '1960',\n",
       " '1920',\n",
       " '1975',\n",
       " '1935',\n",
       " '2010',\n",
       " '1997',\n",
       " '1961',\n",
       " '1921',\n",
       " '1936',\n",
       " '1983',\n",
       " '2011',\n",
       " '1998',\n",
       " '1922',\n",
       " '1937',\n",
       " '1984',\n",
       " '2012',\n",
       " '1999',\n",
       " '1959',\n",
       " '1923',\n",
       " '1970',\n",
       " '1930',\n",
       " '1985',\n",
       " '1945',\n",
       " '2013',\n",
       " '1971',\n",
       " '1931',\n",
       " '1986',\n",
       " '1946',\n",
       " '1993',\n",
       " '1932',\n",
       " '1947',\n",
       " '1994',\n",
       " '1907',\n",
       " '1933',\n",
       " '1980',\n",
       " '1948',\n",
       " '1995',\n",
       " '1908',\n",
       " '1955',\n",
       " '1981',\n",
       " '1941',\n",
       " '1996',\n",
       " '1909',\n",
       " '1956',\n",
       " '1982',\n",
       " '1942',\n",
       " '1957',\n",
       " '1917',\n",
       " '2007',\n",
       " '1943',\n",
       " '1990',\n",
       " '1903',\n",
       " '1958',\n",
       " '1918',\n",
       " '2008',\n",
       " '1944',\n",
       " '1991',\n",
       " '1904',\n",
       " '1951',\n",
       " '1919',\n",
       " '1966',\n",
       " '2009',\n",
       " '1992',\n",
       " '1905',\n",
       " '1952',\n",
       " '1967']"
      ]
     },
     "execution_count": 3,
     "metadata": {},
     "output_type": "execute_result"
    }
   ],
   "source": [
    "os.listdir()"
   ]
  },
  {
   "cell_type": "code",
   "execution_count": 4,
   "metadata": {
    "collapsed": true
   },
   "outputs": [],
   "source": [
    "def calcAnnualStationStats(startYear, endYear):\n",
    "    os.chdir(\"/users/a/a/aametcal/scratch/isd-lite/data\")\n",
    "    #loop through the years specified by function\n",
    "    for year in range(startYear, endYear+1):\n",
    "        \n",
    "        #change to the directory for a specific year\n",
    "        os.chdir(str(year))\n",
    "        \n",
    "        # make a list of all the files in a certain year\n",
    "        lst = [f for f in os.listdir() if not f.startswith('.')]\n",
    "        \n",
    "        # looping through the files in that specific year\n",
    "        for file in lst:\n",
    "            \n",
    "            # read data into pandas data frame\n",
    "            df = pd.read_csv(file, header=None, sep=r\"\\s+\",engine = \"python\",\n",
    "                            names = [\"Year\", \"Month\",\"Day\",\"Hour\",\"Temperature\",\"DewPoint\", \"SLP\",\n",
    "                                    \"Direction\",\"Speed\",\"CoverageCode\", \"Depth1\",\"Depth6\"])\n",
    "            \n",
    "\n",
    "            #create python lists for direction and speed list\n",
    "            directionList = df.Direction.tolist()\n",
    "            speedList = df.Speed.tolist()\n",
    "            \n",
    "            #calculate prevailing wind for that year\n",
    "            prevail = calcAngleDir(directionList,speedList)\n",
    "   \n",
    "          \n",
    "            #make numpy array for speed to calculate mean and median\n",
    "            speedArray = np.asarray(speedList)\n",
    "         \n",
    "            meanSpeed = np.mean(speedArray)\n",
    "            medianSpeed = np.median(speedArray)\n",
    "            \n",
    "            #make a one row pandas df to append\n",
    "            column_names = [\"year\",\"meanWindSpeed\", \"medianWindSpeed\", \"prevailingWind\"]\n",
    "            d = pd.DataFrame(columns = column_names)\n",
    "            d.loc[0] = [str(year),meanSpeed,medianSpeed,prevail]\n",
    "            print(d)\n",
    "            \n",
    "            #make filename out of original filename ex. 029070-99999-1902.gz\n",
    "            filename = str(file[:-8])\n",
    "            path = \"/users/a/a/aametcal/scratch/isd-lite/annual/\"+filename+\".csv\"\n",
    "            \n",
    "            #if file does not exist, write header\n",
    "            if not os.path.isfile(path):\n",
    "                d.to_csv(path,header = column_names,index=False,float_format='%.0f')\n",
    "            else: # if it exists append without writing the header\n",
    "                d.to_csv(path,mode='a',header=False,index=False,float_format='%.0f')\n",
    "            break\n",
    "\n",
    "        os.chdir(\"../\")\n",
    "    return"
   ]
  },
  {
   "cell_type": "code",
   "execution_count": 6,
   "metadata": {},
   "outputs": [
    {
     "name": "stdout",
     "output_type": "stream",
     "text": [
      "   year  meanWindSpeed  medianWindSpeed  prevailingWind\n",
      "0  1901       1.453881             31.0      255.542404\n",
      "   year  meanWindSpeed  medianWindSpeed  prevailingWind\n",
      "0  1902      88.310724             98.0      279.374416\n",
      "   year  meanWindSpeed  medianWindSpeed  prevailingWind\n",
      "0  1903      88.648995             82.0      228.210632\n",
      "   year  meanWindSpeed  medianWindSpeed  prevailingWind\n",
      "0  1904      90.838798             87.0      245.173288\n",
      "   year  meanWindSpeed  medianWindSpeed  prevailingWind\n",
      "0  1905     -59.590494             62.0      259.806503\n",
      "   year  meanWindSpeed  medianWindSpeed  prevailingWind\n",
      "0  1906      15.763254             26.0      237.874021\n",
      "   year  meanWindSpeed  medianWindSpeed  prevailingWind\n",
      "0  1907      34.006452             26.0      191.726221\n",
      "   year  meanWindSpeed  medianWindSpeed  prevailingWind\n",
      "0  1908      52.365876             41.0      266.474524\n",
      "   year  meanWindSpeed  medianWindSpeed  prevailingWind\n",
      "0  1909      43.456612             41.0      168.845928\n",
      "   year  meanWindSpeed  medianWindSpeed  prevailingWind\n",
      "0  1910       7.000913             41.0       249.05597\n",
      "   year  meanWindSpeed  medianWindSpeed  prevailingWind\n",
      "0  1911      51.660567             41.0       257.82645\n",
      "   year  meanWindSpeed  medianWindSpeed  prevailingWind\n",
      "0  1912      46.459016             41.0      275.284004\n"
     ]
    }
   ],
   "source": [
    "calcAnnualStationStats(1901,1912)"
   ]
  },
  {
   "cell_type": "code",
   "execution_count": null,
   "metadata": {
    "collapsed": true
   },
   "outputs": [],
   "source": []
  },
  {
   "cell_type": "code",
   "execution_count": null,
   "metadata": {
    "collapsed": true
   },
   "outputs": [],
   "source": []
  }
 ],
 "metadata": {
  "kernelspec": {
   "display_name": "Python 3",
   "language": "python",
   "name": "python3"
  },
  "language_info": {
   "codemirror_mode": {
    "name": "ipython",
    "version": 3
   },
   "file_extension": ".py",
   "mimetype": "text/x-python",
   "name": "python",
   "nbconvert_exporter": "python",
   "pygments_lexer": "ipython3",
   "version": "3.6.2"
  }
 },
 "nbformat": 4,
 "nbformat_minor": 2
}
