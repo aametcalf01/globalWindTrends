{
 "cells": [
  {
   "cell_type": "code",
   "execution_count": 224,
   "metadata": {
    "collapsed": true
   },
   "outputs": [],
   "source": [
    "import os\n",
    "import pandas as pd\n",
    "import numpy as np"
   ]
  },
  {
   "cell_type": "code",
   "execution_count": 225,
   "metadata": {},
   "outputs": [
    {
     "data": {
      "text/plain": [
       "'\\n- opens isd-history.csv\\n- creates new \"ID\" field = \"USAF\"+\"WBAN\"\\n- Deletes records w/ both lat and lon == 0 or lat and lon == null\\n- Starts with 28,646 records and winnows the dataset down to 23,686 recores\\n- Writes to file \"ID-Info.csv\", which is basically \"isd-history\" with the records mentioned above\\n  removed\\n- Writes to file \"IDs_23686.csv\", which is simply a list of the remaining IDs.\\n\\n'"
      ]
     },
     "execution_count": 225,
     "metadata": {},
     "output_type": "execute_result"
    }
   ],
   "source": [
    "\"\"\"\n",
    "- opens isd-history.csv\n",
    "- creates new \"ID\" field = \"USAF\"+\"WBAN\"\n",
    "- Deletes records w/ both lat and lon == 0 or lat and lon == null\n",
    "- Starts with 28,646 records and winnows the dataset down to 23,686 recores\n",
    "- Writes to file \"ID-Info.csv\", which is basically \"isd-history\" with the records mentioned above\n",
    "  removed\n",
    "- Writes to file \"IDs_23686.csv\", which is simply a list of the remaining IDs.\n",
    "\n",
    "\"\"\" \n"
   ]
  },
  {
   "cell_type": "code",
   "execution_count": 226,
   "metadata": {
    "collapsed": true
   },
   "outputs": [],
   "source": [
    "#From the ISD docs:\n",
    "\n",
    "#Positive latitudes are north of the equator, negative latitudes are south of the equator. \n",
    "#Positive longitudes are east of Prime Meridian, negative longitudes are west of the Prime Meridian. \n",
    "#Latitude and longitude are usually expressed in that sequence, latitude before longitude."
   ]
  },
  {
   "cell_type": "code",
   "execution_count": 227,
   "metadata": {},
   "outputs": [
    {
     "data": {
      "text/plain": [
       "'/gpfs1/home/a/a/aametcal/isd-lite/scripts/dataCleaning'"
      ]
     },
     "execution_count": 227,
     "metadata": {},
     "output_type": "execute_result"
    }
   ],
   "source": [
    "os.getcwd()"
   ]
  },
  {
   "cell_type": "code",
   "execution_count": 228,
   "metadata": {},
   "outputs": [
    {
     "data": {
      "text/plain": [
       "['removeNoLatLon.ipynb',\n",
       " '.ipynb_checkpoints',\n",
       " '.DS_Store',\n",
       " 'test',\n",
       " 'data',\n",
       " 'ID_Lat-Lon.ipynb']"
      ]
     },
     "execution_count": 228,
     "metadata": {},
     "output_type": "execute_result"
    }
   ],
   "source": [
    "os.listdir()"
   ]
  },
  {
   "cell_type": "code",
   "execution_count": 229,
   "metadata": {
    "collapsed": true
   },
   "outputs": [],
   "source": [
    "dat = pd.read_csv(\"data/isd-history.csv\",dtype={'USAF':str, 'WBAN':str, 'STATION NAME':str})"
   ]
  },
  {
   "cell_type": "code",
   "execution_count": 230,
   "metadata": {
    "collapsed": true
   },
   "outputs": [],
   "source": [
    "dat = dat.dropna(subset=['LAT','LON']) #get only the entries that have non-null entries for lat/lon"
   ]
  },
  {
   "cell_type": "code",
   "execution_count": 231,
   "metadata": {
    "collapsed": true
   },
   "outputs": [],
   "source": [
    "#we need to create a ID that is USAF-WBAN"
   ]
  },
  {
   "cell_type": "code",
   "execution_count": 232,
   "metadata": {
    "collapsed": true
   },
   "outputs": [],
   "source": [
    "dat['ID'] = \"\""
   ]
  },
  {
   "cell_type": "code",
   "execution_count": 233,
   "metadata": {
    "collapsed": true
   },
   "outputs": [],
   "source": [
    "def makeID(dat):\n",
    "    return str(dat[\"USAF\"])+\"-\"+ str(dat[\"WBAN\"])"
   ]
  },
  {
   "cell_type": "code",
   "execution_count": 234,
   "metadata": {
    "collapsed": true
   },
   "outputs": [],
   "source": [
    "dat[\"ID\"] = dat.apply(makeID,axis =1)"
   ]
  },
  {
   "cell_type": "code",
   "execution_count": 235,
   "metadata": {},
   "outputs": [
    {
     "data": {
      "text/plain": [
       "(28646, 12)"
      ]
     },
     "execution_count": 235,
     "metadata": {},
     "output_type": "execute_result"
    }
   ],
   "source": [
    "dat.shape"
   ]
  },
  {
   "cell_type": "code",
   "execution_count": 236,
   "metadata": {},
   "outputs": [
    {
     "data": {
      "text/html": [
       "<div>\n",
       "<style>\n",
       "    .dataframe thead tr:only-child th {\n",
       "        text-align: right;\n",
       "    }\n",
       "\n",
       "    .dataframe thead th {\n",
       "        text-align: left;\n",
       "    }\n",
       "\n",
       "    .dataframe tbody tr th {\n",
       "        vertical-align: top;\n",
       "    }\n",
       "</style>\n",
       "<table border=\"1\" class=\"dataframe\">\n",
       "  <thead>\n",
       "    <tr style=\"text-align: right;\">\n",
       "      <th></th>\n",
       "      <th>USAF</th>\n",
       "      <th>WBAN</th>\n",
       "      <th>STATION NAME</th>\n",
       "      <th>CTRY</th>\n",
       "      <th>STATE</th>\n",
       "      <th>ICAO</th>\n",
       "      <th>LAT</th>\n",
       "      <th>LON</th>\n",
       "      <th>ELEV(M)</th>\n",
       "      <th>BEGIN</th>\n",
       "      <th>END</th>\n",
       "      <th>ID</th>\n",
       "    </tr>\n",
       "  </thead>\n",
       "  <tbody>\n",
       "    <tr>\n",
       "      <th>2</th>\n",
       "      <td>007018</td>\n",
       "      <td>99999</td>\n",
       "      <td>WXPOD 7018</td>\n",
       "      <td>NaN</td>\n",
       "      <td>NaN</td>\n",
       "      <td>NaN</td>\n",
       "      <td>0.0</td>\n",
       "      <td>0.0</td>\n",
       "      <td>7018.0</td>\n",
       "      <td>20110309</td>\n",
       "      <td>20130730</td>\n",
       "      <td>007018-99999</td>\n",
       "    </tr>\n",
       "    <tr>\n",
       "      <th>4</th>\n",
       "      <td>007026</td>\n",
       "      <td>99999</td>\n",
       "      <td>WXPOD 7026</td>\n",
       "      <td>AF</td>\n",
       "      <td>NaN</td>\n",
       "      <td>NaN</td>\n",
       "      <td>0.0</td>\n",
       "      <td>0.0</td>\n",
       "      <td>7026.0</td>\n",
       "      <td>20120713</td>\n",
       "      <td>20170506</td>\n",
       "      <td>007026-99999</td>\n",
       "    </tr>\n",
       "  </tbody>\n",
       "</table>\n",
       "</div>"
      ],
      "text/plain": [
       "     USAF   WBAN STATION NAME CTRY STATE ICAO  LAT  LON  ELEV(M)     BEGIN  \\\n",
       "2  007018  99999   WXPOD 7018  NaN   NaN  NaN  0.0  0.0   7018.0  20110309   \n",
       "4  007026  99999   WXPOD 7026   AF   NaN  NaN  0.0  0.0   7026.0  20120713   \n",
       "\n",
       "        END            ID  \n",
       "2  20130730  007018-99999  \n",
       "4  20170506  007026-99999  "
      ]
     },
     "execution_count": 236,
     "metadata": {},
     "output_type": "execute_result"
    }
   ],
   "source": [
    "dat.head(2)"
   ]
  },
  {
   "cell_type": "code",
   "execution_count": 237,
   "metadata": {},
   "outputs": [
    {
     "data": {
      "text/plain": [
       "28646"
      ]
     },
     "execution_count": 237,
     "metadata": {},
     "output_type": "execute_result"
    }
   ],
   "source": [
    "len(np.unique(dat[\"ID\"])) #check to make sure we have unique ID"
   ]
  },
  {
   "cell_type": "code",
   "execution_count": 238,
   "metadata": {
    "collapsed": true
   },
   "outputs": [],
   "source": [
    "#Now we need to make sure we get rid of the lat and longitudes that are equal to zero"
   ]
  },
  {
   "cell_type": "code",
   "execution_count": 239,
   "metadata": {},
   "outputs": [],
   "source": [
    "#we need to get rid of the rows with \"lat-lon\" == 0.0-0.0\n",
    "dat = dat[(dat.LAT !=0)&(dat.LON !=0)]\n"
   ]
  },
  {
   "cell_type": "code",
   "execution_count": 240,
   "metadata": {},
   "outputs": [
    {
     "data": {
      "text/html": [
       "<div>\n",
       "<style>\n",
       "    .dataframe thead tr:only-child th {\n",
       "        text-align: right;\n",
       "    }\n",
       "\n",
       "    .dataframe thead th {\n",
       "        text-align: left;\n",
       "    }\n",
       "\n",
       "    .dataframe tbody tr th {\n",
       "        vertical-align: top;\n",
       "    }\n",
       "</style>\n",
       "<table border=\"1\" class=\"dataframe\">\n",
       "  <thead>\n",
       "    <tr style=\"text-align: right;\">\n",
       "      <th></th>\n",
       "      <th>USAF</th>\n",
       "      <th>WBAN</th>\n",
       "      <th>STATION NAME</th>\n",
       "      <th>CTRY</th>\n",
       "      <th>STATE</th>\n",
       "      <th>ICAO</th>\n",
       "      <th>LAT</th>\n",
       "      <th>LON</th>\n",
       "      <th>ELEV(M)</th>\n",
       "      <th>BEGIN</th>\n",
       "      <th>END</th>\n",
       "      <th>ID</th>\n",
       "    </tr>\n",
       "  </thead>\n",
       "  <tbody>\n",
       "    <tr>\n",
       "      <th>18</th>\n",
       "      <td>008268</td>\n",
       "      <td>99999</td>\n",
       "      <td>WXPOD8278</td>\n",
       "      <td>AF</td>\n",
       "      <td>NaN</td>\n",
       "      <td>NaN</td>\n",
       "      <td>32.950</td>\n",
       "      <td>65.567</td>\n",
       "      <td>1156.7</td>\n",
       "      <td>20100519</td>\n",
       "      <td>20120323</td>\n",
       "      <td>008268-99999</td>\n",
       "    </tr>\n",
       "    <tr>\n",
       "      <th>40</th>\n",
       "      <td>010010</td>\n",
       "      <td>99999</td>\n",
       "      <td>JAN MAYEN(NOR-NAVY)</td>\n",
       "      <td>NO</td>\n",
       "      <td>NaN</td>\n",
       "      <td>ENJA</td>\n",
       "      <td>70.933</td>\n",
       "      <td>-8.667</td>\n",
       "      <td>9.0</td>\n",
       "      <td>19310101</td>\n",
       "      <td>20170522</td>\n",
       "      <td>010010-99999</td>\n",
       "    </tr>\n",
       "  </tbody>\n",
       "</table>\n",
       "</div>"
      ],
      "text/plain": [
       "      USAF   WBAN         STATION NAME CTRY STATE  ICAO     LAT     LON  \\\n",
       "18  008268  99999            WXPOD8278   AF   NaN   NaN  32.950  65.567   \n",
       "40  010010  99999  JAN MAYEN(NOR-NAVY)   NO   NaN  ENJA  70.933  -8.667   \n",
       "\n",
       "    ELEV(M)     BEGIN       END            ID  \n",
       "18   1156.7  20100519  20120323  008268-99999  \n",
       "40      9.0  19310101  20170522  010010-99999  "
      ]
     },
     "execution_count": 240,
     "metadata": {},
     "output_type": "execute_result"
    }
   ],
   "source": [
    "dat.head(2)"
   ]
  },
  {
   "cell_type": "code",
   "execution_count": 241,
   "metadata": {
    "collapsed": true
   },
   "outputs": [],
   "source": [
    "#I want to move the ID field to the front\n",
    "cols = dat.columns.tolist()"
   ]
  },
  {
   "cell_type": "code",
   "execution_count": 242,
   "metadata": {},
   "outputs": [
    {
     "data": {
      "text/plain": [
       "['ID',\n",
       " 'USAF',\n",
       " 'WBAN',\n",
       " 'STATION NAME',\n",
       " 'CTRY',\n",
       " 'STATE',\n",
       " 'ICAO',\n",
       " 'LAT',\n",
       " 'LON',\n",
       " 'ELEV(M)',\n",
       " 'BEGIN',\n",
       " 'END']"
      ]
     },
     "execution_count": 242,
     "metadata": {},
     "output_type": "execute_result"
    }
   ],
   "source": [
    "cols = cols[-1:]+cols[:-1]\n",
    "cols"
   ]
  },
  {
   "cell_type": "code",
   "execution_count": 243,
   "metadata": {},
   "outputs": [
    {
     "data": {
      "text/html": [
       "<div>\n",
       "<style>\n",
       "    .dataframe thead tr:only-child th {\n",
       "        text-align: right;\n",
       "    }\n",
       "\n",
       "    .dataframe thead th {\n",
       "        text-align: left;\n",
       "    }\n",
       "\n",
       "    .dataframe tbody tr th {\n",
       "        vertical-align: top;\n",
       "    }\n",
       "</style>\n",
       "<table border=\"1\" class=\"dataframe\">\n",
       "  <thead>\n",
       "    <tr style=\"text-align: right;\">\n",
       "      <th></th>\n",
       "      <th>ID</th>\n",
       "      <th>USAF</th>\n",
       "      <th>WBAN</th>\n",
       "      <th>STATION NAME</th>\n",
       "      <th>CTRY</th>\n",
       "      <th>STATE</th>\n",
       "      <th>ICAO</th>\n",
       "      <th>LAT</th>\n",
       "      <th>LON</th>\n",
       "      <th>ELEV(M)</th>\n",
       "      <th>BEGIN</th>\n",
       "      <th>END</th>\n",
       "    </tr>\n",
       "  </thead>\n",
       "  <tbody>\n",
       "    <tr>\n",
       "      <th>18</th>\n",
       "      <td>008268-99999</td>\n",
       "      <td>008268</td>\n",
       "      <td>99999</td>\n",
       "      <td>WXPOD8278</td>\n",
       "      <td>AF</td>\n",
       "      <td>NaN</td>\n",
       "      <td>NaN</td>\n",
       "      <td>32.950</td>\n",
       "      <td>65.567</td>\n",
       "      <td>1156.7</td>\n",
       "      <td>20100519</td>\n",
       "      <td>20120323</td>\n",
       "    </tr>\n",
       "    <tr>\n",
       "      <th>40</th>\n",
       "      <td>010010-99999</td>\n",
       "      <td>010010</td>\n",
       "      <td>99999</td>\n",
       "      <td>JAN MAYEN(NOR-NAVY)</td>\n",
       "      <td>NO</td>\n",
       "      <td>NaN</td>\n",
       "      <td>ENJA</td>\n",
       "      <td>70.933</td>\n",
       "      <td>-8.667</td>\n",
       "      <td>9.0</td>\n",
       "      <td>19310101</td>\n",
       "      <td>20170522</td>\n",
       "    </tr>\n",
       "  </tbody>\n",
       "</table>\n",
       "</div>"
      ],
      "text/plain": [
       "              ID    USAF   WBAN         STATION NAME CTRY STATE  ICAO     LAT  \\\n",
       "18  008268-99999  008268  99999            WXPOD8278   AF   NaN   NaN  32.950   \n",
       "40  010010-99999  010010  99999  JAN MAYEN(NOR-NAVY)   NO   NaN  ENJA  70.933   \n",
       "\n",
       "       LON  ELEV(M)     BEGIN       END  \n",
       "18  65.567   1156.7  20100519  20120323  \n",
       "40  -8.667      9.0  19310101  20170522  "
      ]
     },
     "execution_count": 243,
     "metadata": {},
     "output_type": "execute_result"
    }
   ],
   "source": [
    "dat = dat[cols]\n",
    "dat.head(2)"
   ]
  },
  {
   "cell_type": "code",
   "execution_count": 244,
   "metadata": {},
   "outputs": [
    {
     "data": {
      "text/html": [
       "<div>\n",
       "<style>\n",
       "    .dataframe thead tr:only-child th {\n",
       "        text-align: right;\n",
       "    }\n",
       "\n",
       "    .dataframe thead th {\n",
       "        text-align: left;\n",
       "    }\n",
       "\n",
       "    .dataframe tbody tr th {\n",
       "        vertical-align: top;\n",
       "    }\n",
       "</style>\n",
       "<table border=\"1\" class=\"dataframe\">\n",
       "  <thead>\n",
       "    <tr style=\"text-align: right;\">\n",
       "      <th></th>\n",
       "      <th>ID</th>\n",
       "      <th>USAF</th>\n",
       "      <th>WBAN</th>\n",
       "      <th>STATION NAME</th>\n",
       "      <th>CTRY</th>\n",
       "      <th>STATE</th>\n",
       "      <th>ICAO</th>\n",
       "      <th>LAT</th>\n",
       "      <th>LON</th>\n",
       "      <th>ELEV(M)</th>\n",
       "      <th>BEGIN</th>\n",
       "      <th>END</th>\n",
       "    </tr>\n",
       "  </thead>\n",
       "  <tbody>\n",
       "    <tr>\n",
       "      <th>18</th>\n",
       "      <td>008268-99999</td>\n",
       "      <td>008268</td>\n",
       "      <td>99999</td>\n",
       "      <td>WXPOD8278</td>\n",
       "      <td>AF</td>\n",
       "      <td>NaN</td>\n",
       "      <td>NaN</td>\n",
       "      <td>32.950</td>\n",
       "      <td>65.567</td>\n",
       "      <td>1156.7</td>\n",
       "      <td>20100519</td>\n",
       "      <td>20120323</td>\n",
       "    </tr>\n",
       "    <tr>\n",
       "      <th>40</th>\n",
       "      <td>010010-99999</td>\n",
       "      <td>010010</td>\n",
       "      <td>99999</td>\n",
       "      <td>JAN MAYEN(NOR-NAVY)</td>\n",
       "      <td>NO</td>\n",
       "      <td>NaN</td>\n",
       "      <td>ENJA</td>\n",
       "      <td>70.933</td>\n",
       "      <td>-8.667</td>\n",
       "      <td>9.0</td>\n",
       "      <td>19310101</td>\n",
       "      <td>20170522</td>\n",
       "    </tr>\n",
       "    <tr>\n",
       "      <th>42</th>\n",
       "      <td>010014-99999</td>\n",
       "      <td>010014</td>\n",
       "      <td>99999</td>\n",
       "      <td>SORSTOKKEN</td>\n",
       "      <td>NO</td>\n",
       "      <td>NaN</td>\n",
       "      <td>ENSO</td>\n",
       "      <td>59.792</td>\n",
       "      <td>5.341</td>\n",
       "      <td>48.8</td>\n",
       "      <td>19861120</td>\n",
       "      <td>20170522</td>\n",
       "    </tr>\n",
       "    <tr>\n",
       "      <th>43</th>\n",
       "      <td>010015-99999</td>\n",
       "      <td>010015</td>\n",
       "      <td>99999</td>\n",
       "      <td>BRINGELAND</td>\n",
       "      <td>NO</td>\n",
       "      <td>NaN</td>\n",
       "      <td>NaN</td>\n",
       "      <td>61.383</td>\n",
       "      <td>5.867</td>\n",
       "      <td>327.0</td>\n",
       "      <td>19870117</td>\n",
       "      <td>20111020</td>\n",
       "    </tr>\n",
       "    <tr>\n",
       "      <th>44</th>\n",
       "      <td>010016-99999</td>\n",
       "      <td>010016</td>\n",
       "      <td>99999</td>\n",
       "      <td>RORVIK/RYUM</td>\n",
       "      <td>NO</td>\n",
       "      <td>NaN</td>\n",
       "      <td>NaN</td>\n",
       "      <td>64.850</td>\n",
       "      <td>11.233</td>\n",
       "      <td>14.0</td>\n",
       "      <td>19870116</td>\n",
       "      <td>19910806</td>\n",
       "    </tr>\n",
       "  </tbody>\n",
       "</table>\n",
       "</div>"
      ],
      "text/plain": [
       "              ID    USAF   WBAN         STATION NAME CTRY STATE  ICAO     LAT  \\\n",
       "18  008268-99999  008268  99999            WXPOD8278   AF   NaN   NaN  32.950   \n",
       "40  010010-99999  010010  99999  JAN MAYEN(NOR-NAVY)   NO   NaN  ENJA  70.933   \n",
       "42  010014-99999  010014  99999           SORSTOKKEN   NO   NaN  ENSO  59.792   \n",
       "43  010015-99999  010015  99999           BRINGELAND   NO   NaN   NaN  61.383   \n",
       "44  010016-99999  010016  99999          RORVIK/RYUM   NO   NaN   NaN  64.850   \n",
       "\n",
       "       LON  ELEV(M)     BEGIN       END  \n",
       "18  65.567   1156.7  20100519  20120323  \n",
       "40  -8.667      9.0  19310101  20170522  \n",
       "42   5.341     48.8  19861120  20170522  \n",
       "43   5.867    327.0  19870117  20111020  \n",
       "44  11.233     14.0  19870116  19910806  "
      ]
     },
     "execution_count": 244,
     "metadata": {},
     "output_type": "execute_result"
    }
   ],
   "source": [
    "dat.head(5)"
   ]
  },
  {
   "cell_type": "code",
   "execution_count": 245,
   "metadata": {
    "collapsed": true
   },
   "outputs": [],
   "source": [
    "dat.to_csv(\"data/ID_Info.csv\",index=False)"
   ]
  },
  {
   "cell_type": "code",
   "execution_count": 246,
   "metadata": {},
   "outputs": [
    {
     "data": {
      "text/plain": [
       "['removeNoLatLon.ipynb',\n",
       " '.ipynb_checkpoints',\n",
       " '.DS_Store',\n",
       " 'test',\n",
       " 'data',\n",
       " 'ID_Lat-Lon.ipynb']"
      ]
     },
     "execution_count": 246,
     "metadata": {},
     "output_type": "execute_result"
    }
   ],
   "source": [
    "os.listdir()"
   ]
  },
  {
   "cell_type": "code",
   "execution_count": 247,
   "metadata": {},
   "outputs": [
    {
     "data": {
      "text/html": [
       "<div>\n",
       "<style>\n",
       "    .dataframe thead tr:only-child th {\n",
       "        text-align: right;\n",
       "    }\n",
       "\n",
       "    .dataframe thead th {\n",
       "        text-align: left;\n",
       "    }\n",
       "\n",
       "    .dataframe tbody tr th {\n",
       "        vertical-align: top;\n",
       "    }\n",
       "</style>\n",
       "<table border=\"1\" class=\"dataframe\">\n",
       "  <thead>\n",
       "    <tr style=\"text-align: right;\">\n",
       "      <th></th>\n",
       "      <th>ID</th>\n",
       "      <th>USAF</th>\n",
       "      <th>WBAN</th>\n",
       "      <th>STATION NAME</th>\n",
       "      <th>CTRY</th>\n",
       "      <th>STATE</th>\n",
       "      <th>ICAO</th>\n",
       "      <th>LAT</th>\n",
       "      <th>LON</th>\n",
       "      <th>ELEV(M)</th>\n",
       "      <th>BEGIN</th>\n",
       "      <th>END</th>\n",
       "    </tr>\n",
       "  </thead>\n",
       "  <tbody>\n",
       "    <tr>\n",
       "      <th>29923</th>\n",
       "      <td>999999-94644</td>\n",
       "      <td>999999</td>\n",
       "      <td>94644</td>\n",
       "      <td>OLD TOWN 2 W</td>\n",
       "      <td>US</td>\n",
       "      <td>ME</td>\n",
       "      <td>NaN</td>\n",
       "      <td>44.928</td>\n",
       "      <td>-68.701</td>\n",
       "      <td>38.7</td>\n",
       "      <td>20020913</td>\n",
       "      <td>20170523</td>\n",
       "    </tr>\n",
       "  </tbody>\n",
       "</table>\n",
       "</div>"
      ],
      "text/plain": [
       "                 ID    USAF   WBAN  STATION NAME CTRY STATE ICAO     LAT  \\\n",
       "29923  999999-94644  999999  94644  OLD TOWN 2 W   US    ME  NaN  44.928   \n",
       "\n",
       "          LON  ELEV(M)     BEGIN       END  \n",
       "29923 -68.701     38.7  20020913  20170523  "
      ]
     },
     "execution_count": 247,
     "metadata": {},
     "output_type": "execute_result"
    }
   ],
   "source": [
    "\n",
    "dat.loc[dat['ID']=='999999-94644']"
   ]
  },
  {
   "cell_type": "code",
   "execution_count": 248,
   "metadata": {},
   "outputs": [
    {
     "data": {
      "text/plain": [
       "28228"
      ]
     },
     "execution_count": 248,
     "metadata": {},
     "output_type": "execute_result"
    }
   ],
   "source": [
    "#we need a list of the unique id's that came out of this first part of data cleaning\n",
    "\n",
    "#first of all, how many stations are left?\n",
    "len(dat)"
   ]
  },
  {
   "cell_type": "code",
   "execution_count": 249,
   "metadata": {},
   "outputs": [
    {
     "data": {
      "text/plain": [
       "(numpy.ndarray, 28228)"
      ]
     },
     "execution_count": 249,
     "metadata": {},
     "output_type": "execute_result"
    }
   ],
   "source": [
    "#okay, now let's get a list of the id's\n",
    "ids = dat['ID'].values\n",
    "type(ids), len(ids)"
   ]
  },
  {
   "cell_type": "code",
   "execution_count": 250,
   "metadata": {
    "collapsed": true
   },
   "outputs": [],
   "source": [
    "#now let's write it to file\n",
    "np.savetxt('data/IDs_28228.csv',ids,fmt='%s',delimiter=',')"
   ]
  },
  {
   "cell_type": "code",
   "execution_count": null,
   "metadata": {
    "collapsed": true
   },
   "outputs": [],
   "source": []
  },
  {
   "cell_type": "code",
   "execution_count": null,
   "metadata": {
    "collapsed": true
   },
   "outputs": [],
   "source": []
  },
  {
   "cell_type": "code",
   "execution_count": null,
   "metadata": {
    "collapsed": true
   },
   "outputs": [],
   "source": []
  },
  {
   "cell_type": "code",
   "execution_count": null,
   "metadata": {
    "collapsed": true
   },
   "outputs": [],
   "source": []
  },
  {
   "cell_type": "code",
   "execution_count": null,
   "metadata": {
    "collapsed": true
   },
   "outputs": [],
   "source": []
  }
 ],
 "metadata": {
  "kernelspec": {
   "display_name": "Python 3",
   "language": "python",
   "name": "python3"
  },
  "language_info": {
   "codemirror_mode": {
    "name": "ipython",
    "version": 3
   },
   "file_extension": ".py",
   "mimetype": "text/x-python",
   "name": "python",
   "nbconvert_exporter": "python",
   "pygments_lexer": "ipython3",
   "version": "3.6.2"
  }
 },
 "nbformat": 4,
 "nbformat_minor": 2
}
